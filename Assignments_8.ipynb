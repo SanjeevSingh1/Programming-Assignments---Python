{
 "cells": [
  {
   "cell_type": "markdown",
   "id": "9ebf62e9",
   "metadata": {},
   "source": [
    "# 1. Write a Python Program to Add Two Matrices?"
   ]
  },
  {
   "cell_type": "code",
   "execution_count": 6,
   "id": "ebe325e7",
   "metadata": {},
   "outputs": [
    {
     "name": "stdout",
     "output_type": "stream",
     "text": [
      "[10, 10, 10]\n",
      "[10, 10, 10]\n",
      "[10, 10, 10]\n"
     ]
    }
   ],
   "source": [
    "def add_matrices(matrix1, matrix2):\n",
    "    \"\"\"\n",
    "    Adds two matrices element-wise.\n",
    "    Assumes that both matrices have the same dimensions.\n",
    "    \"\"\"\n",
    "    rows = len(matrix1)\n",
    "    cols = len(matrix1[0])\n",
    "    \n",
    "    # Initialize an empty result matrix\n",
    "    result = [[0 for _ in range(cols)] for _ in range(rows)]\n",
    "    \n",
    "    # Add corresponding elements from both matrices\n",
    "    for i in range(rows):\n",
    "        for j in range(cols):\n",
    "            result[i][j] = matrix1[i][j] + matrix2[i][j]\n",
    "    \n",
    "    return result\n",
    "\n",
    "# Example matrices\n",
    "matrix1 = [[1, 2, 3], [4, 5, 6], [7, 8, 9]]\n",
    "matrix2 = [[9, 8, 7], [6, 5, 4], [3, 2, 1]]\n",
    "\n",
    "# Call the function to add matrices\n",
    "result_matrix = add_matrices(matrix1, matrix2)\n",
    "\n",
    "# Print the result\n",
    "for row in result_matrix:\n",
    "    print(row)\n"
   ]
  },
  {
   "cell_type": "markdown",
   "id": "d3e26fea",
   "metadata": {},
   "source": [
    "# 2. Write a Python Program to Multiply Two Matrices?"
   ]
  },
  {
   "cell_type": "code",
   "execution_count": 13,
   "id": "cc98bdf0",
   "metadata": {},
   "outputs": [
    {
     "name": "stdout",
     "output_type": "stream",
     "text": [
      "[30, 24, 18]\n",
      "[84, 69, 54]\n",
      "[138, 114, 90]\n"
     ]
    }
   ],
   "source": [
    "def multiply_matrices(matrix1, matrix2):\n",
    "    if len(matrix1[0]) != len(matrix2):\n",
    "        print(\"Matrices cannot be multiplied\")\n",
    "        return None\n",
    "    \n",
    "    result = [[0 for _ in range(len(matrix2[0]))] for _ in range(len(matrix1))]\n",
    "    \n",
    "    for i in range(len(matrix1)):\n",
    "        for j in range(len(matrix2[0])):\n",
    "            for k in range(len(matrix2)):\n",
    "                result[i][j] += matrix1[i][k] * matrix2[k][j]\n",
    "    \n",
    "    return result\n",
    "\n",
    "matrix1 = [[1, 2, 3], [4, 5, 6], [7, 8, 9]]\n",
    "matrix2 = [[9, 8, 7], [6, 5, 4], [3, 2, 1]]\n",
    "\n",
    "# Call the function to add matrices\n",
    "result_matrix = multiply_matrices(matrix1, matrix2)\n",
    "\n",
    "\n",
    "for row in result_matrix:\n",
    "    print(row)\n"
   ]
  },
  {
   "cell_type": "markdown",
   "id": "deb6f6e9",
   "metadata": {},
   "source": [
    "# 3. Write a Python Program to Transpose a Matrix?"
   ]
  },
  {
   "cell_type": "code",
   "execution_count": 15,
   "id": "0b128fef",
   "metadata": {},
   "outputs": [
    {
     "name": "stdout",
     "output_type": "stream",
     "text": [
      "[[1, 4, 7], [2, 5, 8], [3, 6, 9]]\n",
      "[[1, 4, 7], [2, 5, 8]]\n",
      "[[1, 4], [2, 5], [3, 6]]\n"
     ]
    }
   ],
   "source": [
    "a = [[1,2,3],[4,5,6],[7,8,9]]\n",
    "b = [[1,2],[4,5],[7,8]]\n",
    "c = [[1,2,3],[4,5,6]]\n",
    "\n",
    "def Transpose(matrix):\n",
    "    \n",
    "    out_matrix = []\n",
    "    \n",
    "    for ele in range(len(matrix[0])):\n",
    "        out_matrix.append([0 for i in range(len(matrix))])\n",
    "        \n",
    "    for i in range(len(matrix)):\n",
    "        for j in range(len(matrix[i])):\n",
    "            out_matrix[j][i] = matrix[i][j]\n",
    "    \n",
    "    return out_matrix\n",
    "\n",
    "print(Transpose(a))\n",
    "print(Transpose(b))\n",
    "print(Transpose(c))"
   ]
  },
  {
   "cell_type": "markdown",
   "id": "516d8361",
   "metadata": {},
   "source": [
    "# 4. Write a Python Program to Sort Words in Alphabetic Order?"
   ]
  },
  {
   "cell_type": "code",
   "execution_count": 22,
   "id": "d1893682",
   "metadata": {},
   "outputs": [
    {
     "name": "stdout",
     "output_type": "stream",
     "text": [
      "Enter a string: sort words in alphabetic order\n",
      "Alphabetic In Order Sort Words\n"
     ]
    }
   ],
   "source": [
    "def sort_word():\n",
    "    word = input('Enter a string: ').title()\n",
    "    sorted_list = sorted(word.split(' '))\n",
    "    print(' '.join(sorted_list))\n",
    "    \n",
    "sort_word()"
   ]
  },
  {
   "cell_type": "markdown",
   "id": "1913ebf2",
   "metadata": {},
   "source": [
    "# 5. Write a Python Program to Remove Punctuation From a String?"
   ]
  },
  {
   "cell_type": "code",
   "execution_count": 23,
   "id": "94ca7e8f",
   "metadata": {},
   "outputs": [
    {
     "name": "stdout",
     "output_type": "stream",
     "text": [
      "Enter a String: Remove @ Punctuation & From a String?\n",
      "Remove  Punctuation  From a String\n"
     ]
    }
   ],
   "source": [
    "def remove_Punctuatuions():\n",
    "    punctuations = '''!()-[]{};:'\"\\,<>./?@#$%^&*_~'''\n",
    "    in_string = input('Enter a String: ')\n",
    "    out_string = ''\n",
    "    for ele in in_string:\n",
    "        if ele not in punctuations:\n",
    "            out_string += ele\n",
    "    print(out_string)\n",
    "    \n",
    "remove_Punctuatuions()"
   ]
  },
  {
   "cell_type": "code",
   "execution_count": null,
   "id": "122cc19d",
   "metadata": {},
   "outputs": [],
   "source": []
  }
 ],
 "metadata": {
  "kernelspec": {
   "display_name": "Python 3 (ipykernel)",
   "language": "python",
   "name": "python3"
  },
  "language_info": {
   "codemirror_mode": {
    "name": "ipython",
    "version": 3
   },
   "file_extension": ".py",
   "mimetype": "text/x-python",
   "name": "python",
   "nbconvert_exporter": "python",
   "pygments_lexer": "ipython3",
   "version": "3.11.5"
  }
 },
 "nbformat": 4,
 "nbformat_minor": 5
}
