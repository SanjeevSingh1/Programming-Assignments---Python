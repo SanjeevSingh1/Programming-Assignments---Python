{
 "cells": [
  {
   "cell_type": "markdown",
   "id": "2bc525eb",
   "metadata": {},
   "source": [
    "# 1. Write a Python program to find words which are greater than given length k?"
   ]
  },
  {
   "cell_type": "code",
   "execution_count": 4,
   "id": "418c2981",
   "metadata": {},
   "outputs": [
    {
     "data": {
      "text/plain": [
       "['sanjeev', 'bananana', 'Ineuron', 'data Science']"
      ]
     },
     "execution_count": 4,
     "metadata": {},
     "output_type": "execute_result"
    }
   ],
   "source": [
    "def check_length(list_of_words: list, k: int):\n",
    "    output = []\n",
    "    for i in list_of_words:\n",
    "        if len(i) > k:\n",
    "            output.append(i)\n",
    "            \n",
    "    return output\n",
    "\n",
    "list_of_words = ['Mango','sanjeev', 'bananana', 'Ineuron', 'data Science', 'hmmms']\n",
    "k = 6\n",
    "\n",
    "check_length(list_of_words, k)"
   ]
  },
  {
   "cell_type": "markdown",
   "id": "f65846c8",
   "metadata": {},
   "source": [
    "# 2. Write a Python program for removing i-th character from a string?"
   ]
  },
  {
   "cell_type": "code",
   "execution_count": 12,
   "id": "dcee1bf0",
   "metadata": {},
   "outputs": [
    {
     "data": {
      "text/plain": [
       "'remving'"
      ]
     },
     "execution_count": 12,
     "metadata": {},
     "output_type": "execute_result"
    }
   ],
   "source": [
    "def removing_string(string: str, i):\n",
    "    string = string.replace(string[i], '')\n",
    "    return string\n",
    "\n",
    "removing_string('removing', 3)"
   ]
  },
  {
   "cell_type": "markdown",
   "id": "68a68bad",
   "metadata": {},
   "source": [
    "# 3. Write a Python program to split and join a string?"
   ]
  },
  {
   "cell_type": "code",
   "execution_count": 10,
   "id": "ae28e3d9",
   "metadata": {},
   "outputs": [
    {
     "name": "stdout",
     "output_type": "stream",
     "text": [
      "['Write', 'a', 'Python', 'program', 'to', 'split', 'and', 'join', 'a', 'string']\n",
      "Write a Python program to split and join a string\n"
     ]
    }
   ],
   "source": [
    "string = 'Write a Python program to split and join a string'\n",
    "\n",
    "split = string.split(' ')\n",
    "print(split)\n",
    "\n",
    "join = \" \".join(split)\n",
    "print(join)"
   ]
  },
  {
   "cell_type": "markdown",
   "id": "8cc05723",
   "metadata": {},
   "source": [
    "# 4. Write a Python program to check if a given string is binary string or not?"
   ]
  },
  {
   "cell_type": "code",
   "execution_count": 20,
   "id": "8b3ad3a8",
   "metadata": {},
   "outputs": [
    {
     "name": "stdout",
     "output_type": "stream",
     "text": [
      "Enter the string: 1010110011\n",
      "1010110011 is a binary string\n",
      "Enter the string: gfdestyg\\\n",
      "gfdestyg\\ is not a binart string\n"
     ]
    }
   ],
   "source": [
    "def check_Binary():\n",
    "    inp_string = input('Enter the string: ')\n",
    "    stun = 0\n",
    "    for i in inp_string:\n",
    "        if i in ['0','1']:\n",
    "            stun = 1\n",
    "            continue\n",
    "        else:\n",
    "            stun = 0\n",
    "            break\n",
    "    statement = 'is a binary string' if stun == 1 else 'is not a binart string' \n",
    "    print(f'{inp_string} {statement}')\n",
    "\n",
    "check_Binary()\n",
    "check_Binary()"
   ]
  },
  {
   "cell_type": "markdown",
   "id": "cdca5568",
   "metadata": {},
   "source": [
    "# 5. Write a Python program to find uncommon words from two Strings?"
   ]
  },
  {
   "cell_type": "code",
   "execution_count": 53,
   "id": "963857ec",
   "metadata": {},
   "outputs": [
    {
     "name": "stdout",
     "output_type": "stream",
     "text": [
      "Enter the String 1: full stack data science is course\n",
      "Enter the String 2: machine learning is a course\n",
      "{'full', 'data', 'machine', 'learning', 'science', 'a', 'stack'}\n"
     ]
    }
   ],
   "source": [
    "def Uncommon_Words():\n",
    "    string_1 = set(input(\"Enter the String 1: \").split(' '))\n",
    "    string_2 = set(input(\"Enter the String 2: \").split(' '))\n",
    "    out_string = (string_1.union(string_2)).difference(string_1.intersection(string_2))\n",
    "    print(out_string)\n",
    "\n",
    "Uncommon_Words()"
   ]
  },
  {
   "cell_type": "markdown",
   "id": "071bad6f",
   "metadata": {},
   "source": [
    "# 6. Write a Python to find all duplicate characters in string?"
   ]
  },
  {
   "cell_type": "code",
   "execution_count": 52,
   "id": "e53c989b",
   "metadata": {},
   "outputs": [
    {
     "data": {
      "text/plain": [
       "{' ', 'a', 'c', 'e', 'l', 's', 't', 'u'}"
      ]
     },
     "execution_count": 52,
     "metadata": {},
     "output_type": "execute_result"
    }
   ],
   "source": [
    "def check_duplicate(string: str):\n",
    "    duplicate = []\n",
    "    for i in string:\n",
    "        if string.count(i) > 1:\n",
    "            duplicate.append(i)\n",
    "            \n",
    "    return set(duplicate)\n",
    "\n",
    "check_duplicate('full stack data science course')"
   ]
  },
  {
   "cell_type": "markdown",
   "id": "868a5a8f",
   "metadata": {},
   "source": [
    "# 7. Write a Python Program to check if a string contains any special character ?"
   ]
  },
  {
   "cell_type": "code",
   "execution_count": 59,
   "id": "8f8c9db7",
   "metadata": {},
   "outputs": [
    {
     "name": "stdout",
     "output_type": "stream",
     "text": [
      "Enter a string: helloo!!!@world\n"
     ]
    },
    {
     "data": {
      "text/plain": [
       "'Given string contain special characters'"
      ]
     },
     "execution_count": 59,
     "metadata": {},
     "output_type": "execute_result"
    }
   ],
   "source": [
    "import re\n",
    "\n",
    "def special_char_check(string):\n",
    "    string = input('Enter a string: ')\n",
    "    pattern = r'[!@#$%^&*(),.?\":{}|<>]'\n",
    "    if re.search(pattern, string) == None:\n",
    "        return \"Given string does not contain special characters\"\n",
    "    else:\n",
    "        return \"Given string contain special characters\"\n",
    "\n",
    "special_char_check(string)"
   ]
  },
  {
   "cell_type": "code",
   "execution_count": null,
   "id": "f20f3586",
   "metadata": {},
   "outputs": [],
   "source": []
  }
 ],
 "metadata": {
  "kernelspec": {
   "display_name": "Python 3 (ipykernel)",
   "language": "python",
   "name": "python3"
  },
  "language_info": {
   "codemirror_mode": {
    "name": "ipython",
    "version": 3
   },
   "file_extension": ".py",
   "mimetype": "text/x-python",
   "name": "python",
   "nbconvert_exporter": "python",
   "pygments_lexer": "ipython3",
   "version": "3.11.5"
  }
 },
 "nbformat": 4,
 "nbformat_minor": 5
}
