{
 "cells": [
  {
   "cell_type": "markdown",
   "id": "52aa570b",
   "metadata": {},
   "source": [
    "# 1. Write a Python program to check if the given number is a Disarium Number?"
   ]
  },
  {
   "cell_type": "code",
   "execution_count": 2,
   "id": "0b1a7776",
   "metadata": {},
   "outputs": [
    {
     "name": "stdout",
     "output_type": "stream",
     "text": [
      "Enter a number to check if it's a Disarium number: 23\n",
      "23 is not a Disarium number\n"
     ]
    }
   ],
   "source": [
    "def is_disarium(number):\n",
    "    num_str = str(number)\n",
    "    n = len(num_str)\n",
    "    sum_of_digits = 0\n",
    "    \n",
    "    for i in range(n):\n",
    "        sum_of_digits += int(num_str[i]) ** (i + 1)\n",
    "    \n",
    "    return sum_of_digits == number\n",
    "\n",
    "\n",
    "num = int(input(\"Enter a number to check if it's a Disarium number: \"))\n",
    "if is_disarium(num):\n",
    "    print(num, \"is a Disarium number\")\n",
    "else:\n",
    "    print(num, \"is not a Disarium number\")\n"
   ]
  },
  {
   "cell_type": "markdown",
   "id": "51484b25",
   "metadata": {},
   "source": [
    "# 2. Write a Python program to print all disarium numbers between 1 to 100?"
   ]
  },
  {
   "cell_type": "code",
   "execution_count": 3,
   "id": "63c923f4",
   "metadata": {},
   "outputs": [
    {
     "name": "stdout",
     "output_type": "stream",
     "text": [
      "Disarium numbers between 1 and 100:\n",
      "1\n",
      "2\n",
      "3\n",
      "4\n",
      "5\n",
      "6\n",
      "7\n",
      "8\n",
      "9\n",
      "89\n"
     ]
    }
   ],
   "source": [
    "def is_disarium(number):\n",
    "    num_str = str(number)\n",
    "    n = len(num_str)\n",
    "    sum_of_digits = 0\n",
    "    \n",
    "    for i in range(n):\n",
    "        sum_of_digits += int(num_str[i]) ** (i + 1)\n",
    "    \n",
    "    return sum_of_digits == number\n",
    "\n",
    "print(\"Disarium numbers between 1 and 100:\")\n",
    "for i in range(1, 101):\n",
    "    if is_disarium(i):\n",
    "        print(i)"
   ]
  },
  {
   "cell_type": "markdown",
   "id": "f42c18fe",
   "metadata": {},
   "source": [
    "# 3. Write a Python program to check if the given number is Happy Number?"
   ]
  },
  {
   "cell_type": "code",
   "execution_count": 4,
   "id": "e0831a6a",
   "metadata": {},
   "outputs": [
    {
     "name": "stdout",
     "output_type": "stream",
     "text": [
      "Enter a number to check if it's a Happy number: 20\n",
      "20 is not a Happy number\n"
     ]
    }
   ],
   "source": [
    "def happy_number(number):\n",
    "    def square_sum(num):\n",
    "        sum = 0\n",
    "        while num > 0:\n",
    "            digit = num % 10\n",
    "            sum += digit ** 2\n",
    "            num //= 10\n",
    "        return sum\n",
    "    \n",
    "    seen = set()\n",
    "    while number != 1 and number not in seen:\n",
    "        seen.add(number)\n",
    "        number = square_sum(number)\n",
    "    \n",
    "    return number == 1\n",
    "\n",
    "\n",
    "num = int(input(\"Enter a number to check if it's a Happy number: \"))\n",
    "if happy_number(num):\n",
    "    print(num, \"is a Happy number\")\n",
    "else:\n",
    "    print(num, \"is not a Happy number\")\n"
   ]
  },
  {
   "cell_type": "markdown",
   "id": "34579bfb",
   "metadata": {},
   "source": [
    "# 4. Write a Python program to print all happy numbers between 1 and 100?"
   ]
  },
  {
   "cell_type": "code",
   "execution_count": 5,
   "id": "f252d1c0",
   "metadata": {},
   "outputs": [
    {
     "name": "stdout",
     "output_type": "stream",
     "text": [
      "Happy numbers between 1 and 100:\n",
      "1\n",
      "7\n",
      "10\n",
      "13\n",
      "19\n",
      "23\n",
      "28\n",
      "31\n",
      "32\n",
      "44\n",
      "49\n",
      "68\n",
      "70\n",
      "79\n",
      "82\n",
      "86\n",
      "91\n",
      "94\n",
      "97\n",
      "100\n"
     ]
    }
   ],
   "source": [
    "def happy_number(number):\n",
    "    def square_sum(num):\n",
    "        sum = 0\n",
    "        while num > 0:\n",
    "            digit = num % 10\n",
    "            sum += digit ** 2\n",
    "            num //= 10\n",
    "        return sum\n",
    "    \n",
    "    seen = set()\n",
    "    while number != 1 and number not in seen:\n",
    "        seen.add(number)\n",
    "        number = square_sum(number)\n",
    "    \n",
    "    return number == 1\n",
    "\n",
    "print(\"Happy numbers between 1 and 100:\")\n",
    "for i in range(1, 101):\n",
    "    if happy_number(i):\n",
    "        print(i)"
   ]
  },
  {
   "cell_type": "markdown",
   "id": "0ded8894",
   "metadata": {},
   "source": [
    "# 5. Write a Python program to determine whether the given number is a Harshad Number?"
   ]
  },
  {
   "cell_type": "code",
   "execution_count": 8,
   "id": "c3b1827c",
   "metadata": {},
   "outputs": [
    {
     "name": "stdout",
     "output_type": "stream",
     "text": [
      "Enter a number to check if it's a Harshad number: 20\n",
      "20 is a Harshad number\n"
     ]
    }
   ],
   "source": [
    "def harshad_number(number):\n",
    "    sum_of_digits = sum(int(digit) for digit in str(number))\n",
    "    return number % sum_of_digits == 0\n",
    "\n",
    "\n",
    "num = int(input(\"Enter a number to check if it's a Harshad number: \"))\n",
    "if harshad_number(num):\n",
    "    print(num, \"is a Harshad number\")\n",
    "else:\n",
    "    print(num, \"is not a Harshad number\")\n"
   ]
  },
  {
   "cell_type": "markdown",
   "id": "41336f10",
   "metadata": {},
   "source": [
    "# 6. Write a Python program to print all pronic numbers between 1 and 100?"
   ]
  },
  {
   "cell_type": "code",
   "execution_count": 10,
   "id": "ceb6e091",
   "metadata": {},
   "outputs": [
    {
     "name": "stdout",
     "output_type": "stream",
     "text": [
      "Pronic numbers between 1 and 100:\n",
      "2\n",
      "6\n",
      "12\n",
      "20\n",
      "30\n",
      "42\n",
      "56\n",
      "72\n",
      "90\n"
     ]
    }
   ],
   "source": [
    "def pronic(number):\n",
    "    for i in range(1, int(number ** 0.5) + 1):\n",
    "        if i * (i + 1) == number:\n",
    "            return True\n",
    "    return False\n",
    "\n",
    "print(\"Pronic numbers between 1 and 100:\")\n",
    "for i in range(1, 101):\n",
    "    if pronic(i):\n",
    "        print(i)"
   ]
  },
  {
   "cell_type": "code",
   "execution_count": null,
   "id": "f47f5801",
   "metadata": {},
   "outputs": [],
   "source": []
  }
 ],
 "metadata": {
  "kernelspec": {
   "display_name": "Python 3 (ipykernel)",
   "language": "python",
   "name": "python3"
  },
  "language_info": {
   "codemirror_mode": {
    "name": "ipython",
    "version": 3
   },
   "file_extension": ".py",
   "mimetype": "text/x-python",
   "name": "python",
   "nbconvert_exporter": "python",
   "pygments_lexer": "ipython3",
   "version": "3.11.5"
  }
 },
 "nbformat": 4,
 "nbformat_minor": 5
}
