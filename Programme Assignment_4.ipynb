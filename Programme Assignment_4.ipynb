{
 "cells": [
  {
   "cell_type": "markdown",
   "id": "6f4626a6-e205-4ad2-8b8b-1f0f800797ec",
   "metadata": {},
   "source": [
    "# 1. Write a Python Program to Find the Factorial of a Number?"
   ]
  },
  {
   "cell_type": "code",
   "execution_count": 5,
   "id": "5603eb58-a8a5-447f-ad31-73700d3936a1",
   "metadata": {},
   "outputs": [
    {
     "name": "stdin",
     "output_type": "stream",
     "text": [
      "Enter non negative number:  4\n"
     ]
    },
    {
     "data": {
      "text/plain": [
       "24"
      ]
     },
     "execution_count": 5,
     "metadata": {},
     "output_type": "execute_result"
    }
   ],
   "source": [
    "def factorial(n):\n",
    "    if n==0 or n==1:\n",
    "        return 1\n",
    "    else:\n",
    "        return n*factorial(n-1)\n",
    "    \n",
    "factorial(int(input('Enter non negative number: ')))"
   ]
  },
  {
   "cell_type": "markdown",
   "id": "789a3cf8-c31b-476e-ab66-34c754525a2f",
   "metadata": {},
   "source": [
    "# 2. Write a Python Program to Display the multiplication Table?"
   ]
  },
  {
   "cell_type": "code",
   "execution_count": 2,
   "id": "beb4e6b7-0126-461c-bf01-108029e02ecc",
   "metadata": {},
   "outputs": [
    {
     "name": "stdin",
     "output_type": "stream",
     "text": [
      "Enter non-negative number:  5\n"
     ]
    },
    {
     "name": "stdout",
     "output_type": "stream",
     "text": [
      "5 x 1 = 5\n",
      "5 x 2 = 10\n",
      "5 x 3 = 15\n",
      "5 x 4 = 20\n",
      "5 x 5 = 25\n",
      "5 x 6 = 30\n",
      "5 x 7 = 35\n",
      "5 x 8 = 40\n",
      "5 x 9 = 45\n",
      "5 x 10 = 50\n"
     ]
    }
   ],
   "source": [
    "def multiplication_table(number):\n",
    "    for i in range(1,11):\n",
    "        result = number*i\n",
    "        print(f'{number} x {i} = {result}')\n",
    "    \n",
    "multiplication_table(int(input('Enter non-negative number: ')))"
   ]
  },
  {
   "cell_type": "code",
   "execution_count": null,
   "id": "6f0973ac-06ca-4dce-a5f3-a1dc97d924f2",
   "metadata": {},
   "outputs": [],
   "source": []
  },
  {
   "cell_type": "markdown",
   "id": "03cae6e3-7faa-479f-a981-77ff3cd0c53c",
   "metadata": {},
   "source": [
    "# 3. Write a Python Program to Print the Fibonacci sequence?"
   ]
  },
  {
   "cell_type": "code",
   "execution_count": 1,
   "id": "f9be8a45-f56b-4d1b-9a78-a7732f8460e2",
   "metadata": {},
   "outputs": [
    {
     "name": "stdin",
     "output_type": "stream",
     "text": [
      "Enter any number:  10\n"
     ]
    },
    {
     "data": {
      "text/plain": [
       "[0, 1, 1, 2, 3, 5, 8, 13, 21, 34]"
      ]
     },
     "execution_count": 1,
     "metadata": {},
     "output_type": "execute_result"
    }
   ],
   "source": [
    "def febonacci_seq(n):\n",
    "    fib_seq = []\n",
    "    a, b = 0, 1\n",
    "    \n",
    "    for i in range(n):\n",
    "        fib_seq.append(a)\n",
    "        a, b = b, a+b\n",
    "    return fib_seq\n",
    "\n",
    "febonacci_seq(int(input('Enter any number: ')))"
   ]
  },
  {
   "cell_type": "markdown",
   "id": "98952ad4-2fc4-45a6-b9eb-cd513960fec8",
   "metadata": {},
   "source": [
    "# 4. Write a Python Program to Check Armstrong Number?"
   ]
  },
  {
   "cell_type": "code",
   "execution_count": 6,
   "id": "d018aa95-66d4-45cf-86c5-c8b2d664f4a6",
   "metadata": {},
   "outputs": [
    {
     "name": "stdin",
     "output_type": "stream",
     "text": [
      "Enter a number to check Armstrong number:  123\n"
     ]
    },
    {
     "name": "stdout",
     "output_type": "stream",
     "text": [
      "123 is not an Armstrong number.\n"
     ]
    }
   ],
   "source": [
    "def Armstrong_num(number):\n",
    "    num_str = str(number)\n",
    "    digit_len = len(num_str)\n",
    "    \n",
    "    armstrong_sum = sum(int(i)**digit_len for i in num_str)\n",
    "\n",
    "    return armstrong_sum == number\n",
    "\n",
    "num = int(input('Enter a number to check Armstrong number: '))\n",
    "\n",
    "if Armstrong_num(num):\n",
    "    print(f'{num} is an Armstrong number.')\n",
    "else:\n",
    "    print(f'{num} is not an Armstrong number.')"
   ]
  },
  {
   "cell_type": "markdown",
   "id": "642a2c75-14c6-4dfc-b161-b0e74feba2e1",
   "metadata": {},
   "source": [
    "# 5. Write a Python Program to Find Armstrong Number in an Interval?"
   ]
  },
  {
   "cell_type": "code",
   "execution_count": 14,
   "id": "3ab53790-4a4a-4894-a5e5-88cf765d1c75",
   "metadata": {},
   "outputs": [
    {
     "name": "stdin",
     "output_type": "stream",
     "text": [
      "Enter the starting number:  1\n",
      "Enter the ending number:  15\n"
     ]
    },
    {
     "data": {
      "text/plain": [
       "[1, 2, 3, 4, 5, 6, 7, 8, 9]"
      ]
     },
     "execution_count": 14,
     "metadata": {},
     "output_type": "execute_result"
    }
   ],
   "source": [
    "def Armstrong_num(number):\n",
    "    num_str = str(number)\n",
    "    digit_len = len(num_str)\n",
    "    \n",
    "    armstrong_sum = sum(int(i)**digit_len for i in num_str)\n",
    "\n",
    "    return armstrong_sum == number\n",
    "\n",
    "\n",
    "def armstrong_num_interval(start, end):\n",
    "    armstrong_number = []\n",
    "    \n",
    "    for num in range(start, end + 1):\n",
    "        if Armstrong_num(num):\n",
    "            armstrong_number.append(num)\n",
    "            \n",
    "    return armstrong_number\n",
    "\n",
    "start = int(input('Enter the starting number: '))\n",
    "end = int(input('Enter the ending number: '))\n",
    "\n",
    "armstrong_num_interval(start, end)"
   ]
  },
  {
   "cell_type": "markdown",
   "id": "e451c82b-1b09-43e5-9183-948f0e4aadf4",
   "metadata": {},
   "source": [
    "# 6. Write a Python Program to Find the Sum of Natural Numbers?"
   ]
  },
  {
   "cell_type": "code",
   "execution_count": 13,
   "id": "642ad1da-f226-441d-a007-f9d74758d290",
   "metadata": {},
   "outputs": [
    {
     "name": "stdin",
     "output_type": "stream",
     "text": [
      "Enter the number:  5\n"
     ]
    },
    {
     "name": "stdout",
     "output_type": "stream",
     "text": [
      "Sum of natural number is: 123\n"
     ]
    }
   ],
   "source": [
    "def sum_natural_num(number):\n",
    "    num = 0\n",
    "    for i in range(0,number+1):\n",
    "        num+=i\n",
    "    return num\n",
    "\n",
    "sum_natural_num(int(input('Enter the number: ')))\n",
    "print(f'Sum of natural number is: {num}')"
   ]
  },
  {
   "cell_type": "code",
   "execution_count": null,
   "id": "6b4868d2-2b06-4f9e-b43c-9a647a4f9267",
   "metadata": {},
   "outputs": [],
   "source": []
  }
 ],
 "metadata": {
  "kernelspec": {
   "display_name": "Python 3 (ipykernel)",
   "language": "python",
   "name": "python3"
  },
  "language_info": {
   "codemirror_mode": {
    "name": "ipython",
    "version": 3
   },
   "file_extension": ".py",
   "mimetype": "text/x-python",
   "name": "python",
   "nbconvert_exporter": "python",
   "pygments_lexer": "ipython3",
   "version": "3.10.6"
  }
 },
 "nbformat": 4,
 "nbformat_minor": 5
}
