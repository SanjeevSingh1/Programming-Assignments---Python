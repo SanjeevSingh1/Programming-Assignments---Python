{
 "cells": [
  {
   "cell_type": "markdown",
   "id": "6a7aa95e",
   "metadata": {},
   "source": [
    "# 1. Write a Python program to find sum of elements in list?"
   ]
  },
  {
   "cell_type": "code",
   "execution_count": 5,
   "id": "d9c25154",
   "metadata": {},
   "outputs": [
    {
     "data": {
      "text/plain": [
       "21"
      ]
     },
     "execution_count": 5,
     "metadata": {},
     "output_type": "execute_result"
    }
   ],
   "source": [
    "def sum_of_elem(lst):\n",
    "    total= 0\n",
    "    for num in lst:\n",
    "        total += num\n",
    "    return total\n",
    "\n",
    "my_lst = [1,2,3,4,5,6]\n",
    "\n",
    "sum_of_elem(my_lst)"
   ]
  },
  {
   "cell_type": "markdown",
   "id": "d64d6b1c",
   "metadata": {},
   "source": [
    "# Write a Python Program to multiply all numbers in the list ?"
   ]
  },
  {
   "cell_type": "code",
   "execution_count": 7,
   "id": "5b60b950",
   "metadata": {},
   "outputs": [
    {
     "data": {
      "text/plain": [
       "24"
      ]
     },
     "execution_count": 7,
     "metadata": {},
     "output_type": "execute_result"
    }
   ],
   "source": [
    "def multiple_of_elem(lst):\n",
    "    total= 1\n",
    "    for num in lst:\n",
    "        total *= num\n",
    "    return total\n",
    "\n",
    "my_lst = [1,2,3,4]\n",
    "\n",
    "multiple_of_elem(my_lst)"
   ]
  },
  {
   "cell_type": "markdown",
   "id": "bbb49417",
   "metadata": {},
   "source": [
    "# Write a Python Program to find smallest number in the list ?"
   ]
  },
  {
   "cell_type": "code",
   "execution_count": 11,
   "id": "e7165968",
   "metadata": {},
   "outputs": [
    {
     "data": {
      "text/plain": [
       "7"
      ]
     },
     "execution_count": 11,
     "metadata": {},
     "output_type": "execute_result"
    }
   ],
   "source": [
    "def smallest_num(lst):\n",
    "    \n",
    "    smallest = lst[0]\n",
    "    for num in lst:\n",
    "        if num < smallest:\n",
    "            smallest = num\n",
    "            \n",
    "    return smallest\n",
    "\n",
    "lst = [43,15,7,89,34]\n",
    "\n",
    "smallest_num(lst)"
   ]
  },
  {
   "cell_type": "markdown",
   "id": "4049d965",
   "metadata": {},
   "source": [
    "# 4.Write a Python Program to find largest number in the list ?"
   ]
  },
  {
   "cell_type": "code",
   "execution_count": 12,
   "id": "755a1ba6",
   "metadata": {},
   "outputs": [
    {
     "data": {
      "text/plain": [
       "89"
      ]
     },
     "execution_count": 12,
     "metadata": {},
     "output_type": "execute_result"
    }
   ],
   "source": [
    "def largest_num(lst):\n",
    "    \n",
    "    largest = lst[0]\n",
    "    for num in lst:\n",
    "        if num > largest:\n",
    "            largest = num\n",
    "            \n",
    "    return largest\n",
    "\n",
    "lst = [43,15,7,89,34]\n",
    "\n",
    "largest_num(lst)"
   ]
  },
  {
   "cell_type": "markdown",
   "id": "6e6d3690",
   "metadata": {},
   "source": [
    "# 5.Write a Python Program to find second largest number in the list ?"
   ]
  },
  {
   "cell_type": "code",
   "execution_count": 16,
   "id": "5f8445ad",
   "metadata": {},
   "outputs": [
    {
     "name": "stdout",
     "output_type": "stream",
     "text": [
      "Enter the No of elements in a list: 7\n",
      "Enter a Element: 4\n",
      "Enter a Element: 2\n",
      "Enter a Element: 8\n",
      "Enter a Element: 14\n",
      "Enter a Element: 74\n",
      "Enter a Element: 56\n",
      "Enter a Element: 23\n",
      "The Second Largest Element in [4, 2, 8, 14, 74, 56, 23] is 56\n"
     ]
    }
   ],
   "source": [
    "def sec_largest_num(lst):\n",
    "    \n",
    "    in_ele = int(input('Enter the No of elements in a list: '))\n",
    "    in_list = []\n",
    "    for ele in range(in_ele):\n",
    "        in_list.append(int(input('Enter a Element: ')))\n",
    "    print(f'The Second Largest Element in {in_list} is {sorted(in_list, reverse=True)[1]}')\n",
    "\n",
    "sec_largest_num(lst)"
   ]
  },
  {
   "cell_type": "markdown",
   "id": "ebcf8f23",
   "metadata": {},
   "source": [
    "# 6.Write a Python Program to find N largest elements in the list ?"
   ]
  },
  {
   "cell_type": "code",
   "execution_count": 17,
   "id": "46ac70d7",
   "metadata": {},
   "outputs": [
    {
     "name": "stdout",
     "output_type": "stream",
     "text": [
      "Enter the No of elements in a list: 4\n",
      "Enter a Element: 5\n",
      "Enter a Element: 8\n",
      "Enter a Element: 9\n",
      "Enter a Element: 7\n",
      "The 4 Largest Element in [5, 8, 9, 7] is [9, 8, 7, 5]\n"
     ]
    }
   ],
   "source": [
    "def n_Largest_EleInList(k):\n",
    "    in_ele = int(input('Enter the No of elements in a list: '))\n",
    "    in_list = []\n",
    "    for ele in range(in_ele):\n",
    "        in_list.append(int(input('Enter a Element: ')))\n",
    "    print(f'The {k} Largest Element in {in_list} is {sorted(in_list, reverse=True)[0:k]}')\n",
    "\n",
    "n_Largest_EleInList(4)"
   ]
  },
  {
   "cell_type": "markdown",
   "id": "74fa69eb",
   "metadata": {},
   "source": [
    "# 7.Write a Python Program to find even numbers in the list ?"
   ]
  },
  {
   "cell_type": "code",
   "execution_count": 1,
   "id": "a7df4d62",
   "metadata": {},
   "outputs": [
    {
     "name": "stdout",
     "output_type": "stream",
     "text": [
      "[2, 4, 6, 8, 10]\n"
     ]
    }
   ],
   "source": [
    "my_list = [1, 2, 3, 4, 5, 6, 7, 8, 9, 10]\n",
    "\n",
    "even_nums = [num for num in my_list if num % 2 == 0] # list comprehension\n",
    "print(even_nums)"
   ]
  },
  {
   "cell_type": "markdown",
   "id": "32f7f0e8",
   "metadata": {},
   "source": [
    "# 8.Write a Python Program to find odd numbers in the list ?"
   ]
  },
  {
   "cell_type": "code",
   "execution_count": 2,
   "id": "f6eef81d",
   "metadata": {},
   "outputs": [
    {
     "name": "stdout",
     "output_type": "stream",
     "text": [
      "[1, 3, 5, 7, 9]\n"
     ]
    }
   ],
   "source": [
    "my_list = [1, 2, 3, 4, 5, 6, 7, 8, 9, 10]\n",
    "\n",
    "odd_nums = [num for num in my_list if num % 2 != 0] \n",
    "print(odd_nums)"
   ]
  },
  {
   "cell_type": "markdown",
   "id": "4004e625",
   "metadata": {},
   "source": [
    "# 9.Write a Python Program to remove empty list from list ?"
   ]
  },
  {
   "cell_type": "code",
   "execution_count": 4,
   "id": "a5d843eb",
   "metadata": {},
   "outputs": [
    {
     "name": "stdout",
     "output_type": "stream",
     "text": [
      "[12, 23, 'sjd', '45', 67, 9, 'saa']\n"
     ]
    }
   ],
   "source": [
    "my_lst = [12,23,[],'sjd',[],'45',67,9,'saa']\n",
    "\n",
    "my_lst=[i for i in my_lst if i!=[]]\n",
    "print(my_lst)"
   ]
  },
  {
   "cell_type": "markdown",
   "id": "201a3f8b",
   "metadata": {},
   "source": [
    "# 10.Write a Python Program to Cloning or Copying a list ?"
   ]
  },
  {
   "cell_type": "code",
   "execution_count": 5,
   "id": "212e68c8",
   "metadata": {},
   "outputs": [
    {
     "name": "stdout",
     "output_type": "stream",
     "text": [
      "Original: [1, 2, 3, 4, 5]\n",
      "Copied: [1, 2, 3, 4, 5]\n"
     ]
    }
   ],
   "source": [
    "my_list = [1, 2, 3, 4, 5]\n",
    "\n",
    "new_list = my_list.copy()\n",
    "\n",
    "print(\"Original:\", my_list)\n",
    "print(\"Copied:\", new_list)"
   ]
  },
  {
   "cell_type": "markdown",
   "id": "ebdc9ff5",
   "metadata": {},
   "source": [
    "# 11.Write a Python Program to count occurences of an element in a list ?"
   ]
  },
  {
   "cell_type": "code",
   "execution_count": 6,
   "id": "fe5b7cf6",
   "metadata": {},
   "outputs": [
    {
     "name": "stdout",
     "output_type": "stream",
     "text": [
      "{1: 3, 2: 3, 3: 2, 4: 1, 5: 1}\n"
     ]
    }
   ],
   "source": [
    "my_list = [1, 2, 3, 4, 5, 1, 2, 3, 1, 2]\n",
    "my_set = set(my_list)\n",
    "my_dict = {}\n",
    "for i in my_set:\n",
    "        count = my_list.count(i)\n",
    "        my_dict[i] = count\n",
    "\n",
    "print(my_dict) # {element: count}"
   ]
  },
  {
   "cell_type": "code",
   "execution_count": null,
   "id": "ff9adefe",
   "metadata": {},
   "outputs": [],
   "source": []
  }
 ],
 "metadata": {
  "kernelspec": {
   "display_name": "Python 3 (ipykernel)",
   "language": "python",
   "name": "python3"
  },
  "language_info": {
   "codemirror_mode": {
    "name": "ipython",
    "version": 3
   },
   "file_extension": ".py",
   "mimetype": "text/x-python",
   "name": "python",
   "nbconvert_exporter": "python",
   "pygments_lexer": "ipython3",
   "version": "3.11.5"
  }
 },
 "nbformat": 4,
 "nbformat_minor": 5
}
